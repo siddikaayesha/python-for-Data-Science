{
  "nbformat": 4,
  "nbformat_minor": 0,
  "metadata": {
    "colab": {
      "provenance": []
    },
    "kernelspec": {
      "name": "python3",
      "display_name": "Python 3"
    },
    "language_info": {
      "name": "python"
    }
  },
  "cells": [
    {
      "cell_type": "markdown",
      "source": [
        "#covered topic\n",
        "Numpy - Nd Array Object.\n",
        "\n",
        "Numpy - Data Types.\n",
        "\n",
        "Numpy - Array Attributes.\n",
        "\n",
        "Numpy - Array Creation Routines.\n",
        "\n",
        "Numpy - Array From Existing.\n",
        "\n",
        "Data Array From Numerical Ranges.\n",
        "\n",
        "Numpy - Indexing & Slicing.\n",
        "\n",
        "Numpy - Advanced Indexing.\n",
        "\n",
        "Numpy - Broadcasting.\n",
        "\n",
        "Numpy - Iterating Over Array\n",
        "\n",
        "Numpy - Array Manipulation.\n",
        "\n",
        "Numpy - Conditional operations with all and any\n",
        "\n",
        "Numpy - String Functions.\n",
        "\n",
        "Numpy - Mathematical Functions.\n",
        "\n",
        "Numpy - Arithmetic Operations.\n",
        "\n",
        "Numpy - Statistical Functions.\n",
        "\n",
        "Sort, Search & Counting Functions.\n",
        "\n",
        "Numpy - Linear Algebra\n"
      ],
      "metadata": {
        "id": "mOQuIql600rh"
      }
    },
    {
      "cell_type": "code",
      "source": [
        "import numpy as np\n",
        "A=np.array([[1,2,3,4],\n",
        "            [5,6,7,8]\n",
        "            ])\n",
        "B=np.array([[1,2,3,4],\n",
        "            [5,6,7,8],\n",
        "            [1,2,3,4],\n",
        "            [1,2,3,4]\n",
        "            ])\n",
        "d=np.dot(A,B)\n",
        "print(d)"
      ],
      "metadata": {
        "colab": {
          "base_uri": "https://localhost:8080/"
        },
        "id": "jpWIud6P9oTb",
        "outputId": "9a68bdb9-7ab1-4f77-e066-4ed2282a5e28"
      },
      "execution_count": 2,
      "outputs": [
        {
          "output_type": "stream",
          "name": "stdout",
          "text": [
            "[[ 18  28  38  48]\n",
            " [ 50  76 102 128]]\n"
          ]
        }
      ]
    },
    {
      "cell_type": "code",
      "source": [
        "import numpy as np\n",
        "A = np.array([\n",
        "    [1, 2, 3],\n",
        "    [4, 5, 6]\n",
        "])\n",
        "\n",
        "B = np.array([\n",
        "    [7, 8],\n",
        "    [9, 10],\n",
        "    [11, 12]\n",
        "])\n",
        "d = np.dot(A, B)\n",
        "d1 = np.linalg.inv(d)\n",
        "print(d1)\n"
      ],
      "metadata": {
        "colab": {
          "base_uri": "https://localhost:8080/"
        },
        "id": "9hWgWy3L_UBU",
        "outputId": "a0583c17-52fc-4d5a-a11b-194354fe5739"
      },
      "execution_count": 91,
      "outputs": [
        {
          "output_type": "stream",
          "name": "stdout",
          "text": [
            "[[ 4.27777778 -1.77777778]\n",
            " [-3.86111111  1.61111111]]\n"
          ]
        }
      ]
    },
    {
      "cell_type": "code",
      "source": [
        "t=np.transpose(d)\n",
        "print(t)"
      ],
      "metadata": {
        "colab": {
          "base_uri": "https://localhost:8080/"
        },
        "id": "3eYo5ah5ACil",
        "outputId": "d83db5d6-0009-46e8-d7aa-2520f4e4654f"
      },
      "execution_count": 7,
      "outputs": [
        {
          "output_type": "stream",
          "name": "stdout",
          "text": [
            "[[ 18  50]\n",
            " [ 28  76]\n",
            " [ 38 102]\n",
            " [ 48 128]]\n"
          ]
        }
      ]
    },
    {
      "cell_type": "markdown",
      "source": [
        "# Numpy Questions"
      ],
      "metadata": {
        "id": "JIWyqh8NtCT_"
      }
    },
    {
      "cell_type": "markdown",
      "source": [
        "### Array Creation and Manipulation\n",
        "\n",
        "1. Create a NumPy array of shape (5, 5) filled with random integers between 1 and 20. Replace all the elements in the third column with 1 & 3rd row 1\n",
        "2. Create a NumPy array of shape (4, 4) with values from 1 to 16. Replace the diagonal elements with 0."
      ],
      "metadata": {
        "id": "mu9iBJH3tCUA"
      }
    },
    {
      "cell_type": "code",
      "source": [
        "arr=np.random.randint(1,21,size=(5,5))\n",
        "print(arr)\n",
        "print(arr[:,2])\n",
        "arr[:,2]=1\n",
        "print(arr)"
      ],
      "metadata": {
        "colab": {
          "base_uri": "https://localhost:8080/"
        },
        "id": "ZomdFnmvASuk",
        "outputId": "9ffa3675-db47-46f4-b98d-a2f6633cf221"
      },
      "execution_count": 15,
      "outputs": [
        {
          "output_type": "stream",
          "name": "stdout",
          "text": [
            "[[15 13 17  1 19]\n",
            " [17 10  5 10  9]\n",
            " [ 6 16 14 14  4]\n",
            " [ 9  9 19 19  9]\n",
            " [ 7 11 19 10 13]]\n",
            "[17  5 14 19 19]\n",
            "[[15 13  1  1 19]\n",
            " [17 10  1 10  9]\n",
            " [ 6 16  1 14  4]\n",
            " [ 9  9  1 19  9]\n",
            " [ 7 11  1 10 13]]\n"
          ]
        }
      ]
    },
    {
      "cell_type": "code",
      "source": [
        "arr=np.random.randint(1,21,size=(5,5))\n",
        "print(arr)\n",
        "arr[2:3,:]=1\n",
        "print(arr)\n"
      ],
      "metadata": {
        "colab": {
          "base_uri": "https://localhost:8080/"
        },
        "id": "aacASXPeClKN",
        "outputId": "06ea6d8d-fc9c-4513-ed0b-33ba3439a067"
      },
      "execution_count": 27,
      "outputs": [
        {
          "output_type": "stream",
          "name": "stdout",
          "text": [
            "[[ 2 11  6 10  7]\n",
            " [18 13  5 16 18]\n",
            " [ 8 10 10 20 15]\n",
            " [15  2 19 17  5]\n",
            " [20  9 19  6 15]]\n",
            "[[ 2 11  6 10  7]\n",
            " [18 13  5 16 18]\n",
            " [ 1  1  1  1  1]\n",
            " [15  2 19 17  5]\n",
            " [20  9 19  6 15]]\n"
          ]
        }
      ]
    },
    {
      "cell_type": "code",
      "source": [
        "arr1=np.random.randint(1,17,size=(4,4))\n",
        "print(arr1)\n",
        "\n",
        "np.fill_diagonal(arr1,0)\n",
        "print(arr1)"
      ],
      "metadata": {
        "colab": {
          "base_uri": "https://localhost:8080/"
        },
        "id": "p_o18wr5BooE",
        "outputId": "9cc78997-6bac-4a4d-b5d6-55d245a7cd47"
      },
      "execution_count": 21,
      "outputs": [
        {
          "output_type": "stream",
          "name": "stdout",
          "text": [
            "[[10  9  2 10]\n",
            " [ 8  9  4  2]\n",
            " [ 4  4  2  4]\n",
            " [ 7  5 16  9]]\n",
            "[[ 0  9  2 10]\n",
            " [ 8  0  4  2]\n",
            " [ 4  4  0  4]\n",
            " [ 7  5 16  0]]\n"
          ]
        }
      ]
    },
    {
      "cell_type": "code",
      "source": [],
      "metadata": {
        "id": "-ftquv44ChD1"
      },
      "execution_count": null,
      "outputs": []
    },
    {
      "cell_type": "markdown",
      "source": [
        "### Array Indexing and Slicing\n",
        "\n",
        "1. Create a NumPy array of shape (6, 6) with values from 1 to 36. Extract the sub-array consisting of the 3rd to 5th rows and 2nd to 4th columns.\n",
        "2. Create a NumPy array of shape (5, 5) with random integers. Extract the elements on the border."
      ],
      "metadata": {
        "id": "Z-TOIPYxcs3r"
      }
    },
    {
      "cell_type": "code",
      "source": [
        "arr=np.random.randint(1,36,size=(6,6))\n",
        "print(arr)\n",
        "arr_3_5=arr[2:5,1:4]\n",
        "print(arr_3_5)"
      ],
      "metadata": {
        "colab": {
          "base_uri": "https://localhost:8080/"
        },
        "id": "w_C6PR7VDHgl",
        "outputId": "bb78f155-39f9-4209-f4c2-0d1ffe0119eb"
      },
      "execution_count": 29,
      "outputs": [
        {
          "output_type": "stream",
          "name": "stdout",
          "text": [
            "[[26 19 17 22  9 23]\n",
            " [14 11 15 14 35 13]\n",
            " [24 31 19  1 30 22]\n",
            " [12 26 19  5  1  8]\n",
            " [32 19 10 21 17  5]\n",
            " [16 13  6  2 17 23]]\n",
            "[[31 19  1]\n",
            " [26 19  5]\n",
            " [19 10 21]]\n"
          ]
        }
      ]
    },
    {
      "cell_type": "code",
      "source": [
        "arr=np.random.rand(5,5)\n",
        "print(arr)\n",
        "arr_border1=arr[0,:]\n",
        "arr_border2=arr[-1,:]\n",
        "left_border=arr[1:4,0]\n",
        "right_border=arr[1:4,-1]\n",
        "arr_border=np.concatenate((arr_border1,arr_border2,left_border,right_border))\n",
        "print(arr_border)\n"
      ],
      "metadata": {
        "colab": {
          "base_uri": "https://localhost:8080/"
        },
        "id": "mYs3c7-5DQp8",
        "outputId": "09dd7f92-d6b5-4a21-8ab1-df9f4140072a"
      },
      "execution_count": 33,
      "outputs": [
        {
          "output_type": "stream",
          "name": "stdout",
          "text": [
            "[[0.99551977 0.74740147 0.60006807 0.25030302 0.33262888]\n",
            " [0.37296921 0.90929452 0.63334231 0.7983621  0.48823163]\n",
            " [0.27794062 0.96556322 0.20331216 0.65758448 0.4292707 ]\n",
            " [0.99414718 0.09755055 0.18280554 0.49085571 0.68229326]\n",
            " [0.53806408 0.07466956 0.04354059 0.13394448 0.77808056]]\n",
            "[0.99551977 0.74740147 0.60006807 0.25030302 0.33262888 0.53806408\n",
            " 0.07466956 0.04354059 0.13394448 0.77808056 0.37296921 0.27794062\n",
            " 0.99414718 0.48823163 0.4292707  0.68229326]\n"
          ]
        }
      ]
    },
    {
      "cell_type": "markdown",
      "source": [
        "### Array Operations\n",
        "\n",
        "1. Create two NumPy arrays of shape (3, 4) filled with random integers. Perform element-wise addition, subtraction, multiplication, and division.\n",
        "2. Create a NumPy array of shape (4, 4) with values from 1 to 16. Compute the row-wise and column-wise sum."
      ],
      "metadata": {
        "id": "d3p9NpuRdjlM"
      }
    },
    {
      "cell_type": "code",
      "source": [
        "arr1=np.random.randint(1,50,size=(3,4))\n",
        "arr2=np.random.randint(1,50,size=(3,4))\n",
        "arr_add=arr1+arr2\n",
        "print(arr_add)\n",
        "arr_sub=arr1-arr2\n",
        "print(arr_sub)\n",
        "arr_mul=arr1*arr2\n",
        "print(arr_mul)\n",
        "arr_div=arr1/arr2\n",
        "print(arr_div)"
      ],
      "metadata": {
        "colab": {
          "base_uri": "https://localhost:8080/"
        },
        "id": "gVDP4dBZGNPH",
        "outputId": "cd0c5f15-29a6-4965-a32c-1a9bb12bf424"
      },
      "execution_count": 35,
      "outputs": [
        {
          "output_type": "stream",
          "name": "stdout",
          "text": [
            "[[75 27 47 85]\n",
            " [86 71 70 62]\n",
            " [59 73 44 46]]\n",
            "[[ -9 -13  11  -9]\n",
            " [ -4  17  14 -14]\n",
            " [ 13  -7  20 -28]]\n",
            "[[1386  140  522 1786]\n",
            " [1845 1188 1176  912]\n",
            " [ 828 1320  384  333]]\n",
            "[[0.78571429 0.35       1.61111111 0.80851064]\n",
            " [0.91111111 1.62962963 1.5        0.63157895]\n",
            " [1.56521739 0.825      2.66666667 0.24324324]]\n"
          ]
        }
      ]
    },
    {
      "cell_type": "code",
      "source": [
        "arr1=np.random.randint(1,17,size=(4,4))\n",
        "row_sum=np.sum(arr1,axis=1)\n",
        "col_sum=np.sum(arr1,axis=0)\n",
        "print(arr1)\n",
        "print(f'row wise sum {row_sum}')\n",
        "print(f'column wise sum {col_sum}')"
      ],
      "metadata": {
        "colab": {
          "base_uri": "https://localhost:8080/"
        },
        "id": "-ZfyvsmrHdQ1",
        "outputId": "10fb3320-3cfc-4fca-957f-84b087a6efec"
      },
      "execution_count": 38,
      "outputs": [
        {
          "output_type": "stream",
          "name": "stdout",
          "text": [
            "[[ 5  6  8  6]\n",
            " [13  5 15  8]\n",
            " [14 13 10  9]\n",
            " [ 2  9 10 11]]\n",
            "row wise sum [25 41 46 32]\n",
            "column wise sum [34 33 43 34]\n"
          ]
        }
      ]
    },
    {
      "cell_type": "markdown",
      "source": [
        "### Statistical Operations\n",
        "\n",
        "1. Create a NumPy array of shape (5, 5) filled with random integers. Compute the mean, median, standard deviation, and variance of the array."
      ],
      "metadata": {
        "id": "K9yvG5HZeRD0"
      }
    },
    {
      "cell_type": "code",
      "source": [
        "arr=np.random.rand(5,5)\n",
        "print(arr)\n",
        "mean=np.mean(arr)\n",
        "print(f'mean {mean:.2f}')\n",
        "median=np.median(arr)\n",
        "print(f'median {median:.2f}')\n",
        "std=np.std(arr)\n",
        "print(f'standard deviation {std:.2f}')\n",
        "var=np.var(arr)\n",
        "print(f'variance {var:.2f}')\n"
      ],
      "metadata": {
        "colab": {
          "base_uri": "https://localhost:8080/"
        },
        "id": "rpzw5hs9HR4X",
        "outputId": "3069ea94-ee36-4ae0-e925-4c84452c62cd"
      },
      "execution_count": 46,
      "outputs": [
        {
          "output_type": "stream",
          "name": "stdout",
          "text": [
            "[[0.27296928 0.29093741 0.81670172 0.86371092 0.44903014]\n",
            " [0.21751984 0.26320767 0.0996786  0.61683712 0.27414414]\n",
            " [0.24702158 0.60328037 0.09387059 0.24024208 0.19413964]\n",
            " [0.75290227 0.4422717  0.21955454 0.23378464 0.55853273]\n",
            " [0.46969688 0.65423539 0.30222083 0.57117993 0.10436101]]\n",
            "mean 0.39\n",
            "median 0.29\n",
            "standard deviation 0.22\n",
            "variance 0.05\n"
          ]
        }
      ]
    },
    {
      "cell_type": "markdown",
      "source": [
        "### Broadcasting\n",
        "\n",
        "1. Create a NumPy array of shape (3, 3) filled with random integers. Add a 1D array of shape (3,) to each row of the 2D array using broadcasting.\n",
        "2. Create a NumPy array of shape (4, 4) filled with random integers. Subtract a 1D array of shape (4,) from each column of the 2D array using broadcasting."
      ],
      "metadata": {
        "id": "J9J7kKldeSkC"
      }
    },
    {
      "cell_type": "code",
      "source": [
        "arr=np.random.randint(1,25,size=(3,3))\n",
        "arr1=np.random.randint(1,25,size=(3,))\n",
        "print(arr)\n",
        "print(arr1)\n",
        "print(arr+arr1)"
      ],
      "metadata": {
        "colab": {
          "base_uri": "https://localhost:8080/"
        },
        "id": "fCELljVqJiZA",
        "outputId": "e77045e5-6367-47b5-a3c9-95d118644593"
      },
      "execution_count": 49,
      "outputs": [
        {
          "output_type": "stream",
          "name": "stdout",
          "text": [
            "[[21 17  7]\n",
            " [19  5  7]\n",
            " [17 19 23]]\n",
            "[ 4  1 18]\n",
            "[[25 18 25]\n",
            " [23  6 25]\n",
            " [21 20 41]]\n"
          ]
        }
      ]
    },
    {
      "cell_type": "code",
      "source": [
        "print(arr1[np.newaxis,:])\n",
        "print(arr1[:,np.newaxis])"
      ],
      "metadata": {
        "colab": {
          "base_uri": "https://localhost:8080/"
        },
        "id": "mWj4VxrNMrOW",
        "outputId": "dd22ab3e-6f46-4ef1-81fc-72fae58225fc"
      },
      "execution_count": 51,
      "outputs": [
        {
          "output_type": "stream",
          "name": "stdout",
          "text": [
            "[[21 22 11  9]]\n",
            "[[21]\n",
            " [22]\n",
            " [11]\n",
            " [ 9]]\n"
          ]
        }
      ]
    },
    {
      "cell_type": "code",
      "source": [],
      "metadata": {
        "id": "MZibCggTOUHi"
      },
      "execution_count": null,
      "outputs": []
    },
    {
      "cell_type": "code",
      "source": [
        "arr=np.random.randint(1,25,size=(4,4))\n",
        "arr1=np.random.randint(1,25,size=(4,))\n",
        "arr2 = arr1.reshape(4, 1) # row =3, col = 1\n",
        "print(arr)\n",
        "print(arr1)\n",
        "print(arr - arr2)"
      ],
      "metadata": {
        "colab": {
          "base_uri": "https://localhost:8080/"
        },
        "id": "Zgfg13QlKcS_",
        "outputId": "e2253325-02d5-47c8-fd2d-5d2e9be8ce63"
      },
      "execution_count": 89,
      "outputs": [
        {
          "output_type": "stream",
          "name": "stdout",
          "text": [
            "[[ 3 22  4 18]\n",
            " [10  3 23  6]\n",
            " [ 7 16 18 20]\n",
            " [20 14 21 15]]\n",
            "[17 14 11 15]\n",
            "[[-14   5 -13   1]\n",
            " [ -4 -11   9  -8]\n",
            " [ -4   5   7   9]\n",
            " [  5  -1   6   0]]\n"
          ]
        }
      ]
    },
    {
      "cell_type": "markdown",
      "source": [
        "### Linear Algebra\n",
        "\n",
        "1. Create two NumPy arrays of shape (2, 3) and (3, 2). Perform matrix multiplication on these arrays."
      ],
      "metadata": {
        "id": "bSrkjSh0eV_e"
      }
    },
    {
      "cell_type": "code",
      "source": [
        "A=np.array([[1,2,3,4],\n",
        "            [5,6,7,8]\n",
        "            ])\n",
        "B=np.array([[1,2,3,4],\n",
        "            [5,6,7,8],\n",
        "            [1,2,3,4],\n",
        "            [1,2,3,4]\n",
        "])\n",
        "print(np.dot(A,B))"
      ],
      "metadata": {
        "colab": {
          "base_uri": "https://localhost:8080/"
        },
        "id": "cXKhW79yObae",
        "outputId": "c58e71ac-793d-4c18-f259-20b8c2598f31"
      },
      "execution_count": 56,
      "outputs": [
        {
          "output_type": "stream",
          "name": "stdout",
          "text": [
            "[[ 18  28  38  48]\n",
            " [ 50  76 102 128]]\n"
          ]
        }
      ]
    },
    {
      "cell_type": "markdown",
      "source": [
        "### Advanced Array Manipulation\n",
        "\n",
        "1. Create a NumPy array of shape (3, 3) with values from 1 to 9. Reshape the array to shape (1, 9) and then to shape (9, 1).\n",
        "2. Create a NumPy array of shape (5, 5) filled with random integers. Flatten the array and then reshape it back to (5, 5)."
      ],
      "metadata": {
        "id": "QdUgtsIieUJL"
      }
    },
    {
      "cell_type": "code",
      "source": [
        "arr=np.random.randint(1,10,size=(3,3))\n",
        "print(arr)\n",
        "print(arr.reshape(1,9))\n",
        "print(arr.reshape(9,1))"
      ],
      "metadata": {
        "colab": {
          "base_uri": "https://localhost:8080/"
        },
        "id": "Jfym3jdyOoFP",
        "outputId": "5baa52a4-c4c6-4e59-94ca-13a7cc9f2a69"
      },
      "execution_count": 58,
      "outputs": [
        {
          "output_type": "stream",
          "name": "stdout",
          "text": [
            "[[2 1 6]\n",
            " [5 2 6]\n",
            " [3 3 9]]\n",
            "[[2 1 6 5 2 6 3 3 9]]\n",
            "[[2]\n",
            " [1]\n",
            " [6]\n",
            " [5]\n",
            " [2]\n",
            " [6]\n",
            " [3]\n",
            " [3]\n",
            " [9]]\n"
          ]
        }
      ]
    },
    {
      "cell_type": "code",
      "source": [
        "arr=np.random.randint(1,10,size=(5,5,5))\n",
        "print(arr)\n",
        "flatten_arr=arr.flatten()\n",
        "print(flatten_arr)\n",
        "print(flatten_arr.reshape(5,5,5))"
      ],
      "metadata": {
        "colab": {
          "base_uri": "https://localhost:8080/"
        },
        "id": "syvyOIHnOvhA",
        "outputId": "0038253f-d006-4539-dec3-aa03ee4ebc36"
      },
      "execution_count": 59,
      "outputs": [
        {
          "output_type": "stream",
          "name": "stdout",
          "text": [
            "[[[2 2 6 8 6]\n",
            "  [3 5 9 3 7]\n",
            "  [9 2 2 9 2]\n",
            "  [6 8 4 7 1]\n",
            "  [4 5 8 1 4]]\n",
            "\n",
            " [[2 4 5 4 9]\n",
            "  [5 4 1 9 6]\n",
            "  [5 1 4 7 1]\n",
            "  [4 9 1 2 5]\n",
            "  [4 5 7 6 2]]\n",
            "\n",
            " [[1 5 6 4 9]\n",
            "  [1 6 4 8 4]\n",
            "  [5 6 5 6 1]\n",
            "  [2 7 9 5 9]\n",
            "  [9 4 3 1 6]]\n",
            "\n",
            " [[8 1 3 7 9]\n",
            "  [7 3 9 7 5]\n",
            "  [9 6 1 2 3]\n",
            "  [1 3 8 6 8]\n",
            "  [7 3 9 6 7]]\n",
            "\n",
            " [[3 1 5 2 6]\n",
            "  [5 4 8 4 5]\n",
            "  [6 4 4 5 5]\n",
            "  [9 3 1 9 3]\n",
            "  [5 8 4 9 7]]]\n",
            "[2 2 6 8 6 3 5 9 3 7 9 2 2 9 2 6 8 4 7 1 4 5 8 1 4 2 4 5 4 9 5 4 1 9 6 5 1\n",
            " 4 7 1 4 9 1 2 5 4 5 7 6 2 1 5 6 4 9 1 6 4 8 4 5 6 5 6 1 2 7 9 5 9 9 4 3 1\n",
            " 6 8 1 3 7 9 7 3 9 7 5 9 6 1 2 3 1 3 8 6 8 7 3 9 6 7 3 1 5 2 6 5 4 8 4 5 6\n",
            " 4 4 5 5 9 3 1 9 3 5 8 4 9 7]\n",
            "[[[2 2 6 8 6]\n",
            "  [3 5 9 3 7]\n",
            "  [9 2 2 9 2]\n",
            "  [6 8 4 7 1]\n",
            "  [4 5 8 1 4]]\n",
            "\n",
            " [[2 4 5 4 9]\n",
            "  [5 4 1 9 6]\n",
            "  [5 1 4 7 1]\n",
            "  [4 9 1 2 5]\n",
            "  [4 5 7 6 2]]\n",
            "\n",
            " [[1 5 6 4 9]\n",
            "  [1 6 4 8 4]\n",
            "  [5 6 5 6 1]\n",
            "  [2 7 9 5 9]\n",
            "  [9 4 3 1 6]]\n",
            "\n",
            " [[8 1 3 7 9]\n",
            "  [7 3 9 7 5]\n",
            "  [9 6 1 2 3]\n",
            "  [1 3 8 6 8]\n",
            "  [7 3 9 6 7]]\n",
            "\n",
            " [[3 1 5 2 6]\n",
            "  [5 4 8 4 5]\n",
            "  [6 4 4 5 5]\n",
            "  [9 3 1 9 3]\n",
            "  [5 8 4 9 7]]]\n"
          ]
        }
      ]
    },
    {
      "cell_type": "markdown",
      "source": [
        "### **Boolean Indexing**\n",
        "\n",
        "1. Create a NumPy array of shape (4, 4) filled with random integers. Use boolean indexing to set all elements greater than 10 to 10."
      ],
      "metadata": {
        "id": "2p_e-uUDvkI2"
      }
    },
    {
      "cell_type": "code",
      "source": [
        "arr=np.random.randint(1,100,size=(4,4))\n",
        "arr[arr>10]=100\n",
        "print(arr)"
      ],
      "metadata": {
        "colab": {
          "base_uri": "https://localhost:8080/"
        },
        "id": "KfBY359jPovn",
        "outputId": "c3a2cdb5-48f5-4e08-f2aa-b4b34c6ec275"
      },
      "execution_count": 83,
      "outputs": [
        {
          "output_type": "stream",
          "name": "stdout",
          "text": [
            "[[100 100 100 100]\n",
            " [100 100   4 100]\n",
            " [  3 100   6 100]\n",
            " [100 100 100 100]]\n"
          ]
        }
      ]
    },
    {
      "cell_type": "markdown",
      "source": [
        "# Problem Solving\n"
      ],
      "metadata": {
        "id": "DDRg4DBvShMI"
      }
    },
    {
      "cell_type": "markdown",
      "source": [
        "Easy\n",
        "https://www.deep-ml.com/problems/3"
      ],
      "metadata": {
        "id": "S5ay11PWS7Dv"
      }
    },
    {
      "cell_type": "code",
      "source": [
        "import numpy as np\n",
        "\n",
        "def reshape_matrix(a: list[list[int|float]], new_shape: tuple[int, int]) -> list[list[int|float]]:\n",
        "    #Write your code here and return a python list after reshaping by using numpy's tolist() method\n",
        "    arr = np.array(a)\n",
        "    if arr.size != new_shape[0] * new_shape[1]:\n",
        "        return []\n",
        "    arr = arr.reshape(new_shape[0],new_shape[1])\n",
        "    return arr.tolist()"
      ],
      "metadata": {
        "id": "gxa_xQnlSl7g"
      },
      "execution_count": 84,
      "outputs": []
    },
    {
      "cell_type": "markdown",
      "source": [
        "Easy\n",
        "https://www.deep-ml.com/problems/5"
      ],
      "metadata": {
        "id": "HLRsxtKLS9VP"
      }
    },
    {
      "cell_type": "code",
      "source": [
        "import numpy as np\n",
        "def scalar_multiply(matrix: list[list[int|float]], scalar: int|float) -> list[list[int|float]]:\n",
        "    arr = np.array(matrix)\n",
        "    arr = arr * scalar\n",
        "\treturn arr.tolist()"
      ],
      "metadata": {
        "id": "k-e9dUnxU7iY"
      },
      "execution_count": null,
      "outputs": []
    },
    {
      "cell_type": "markdown",
      "source": [
        "Easy\n",
        "https://www.deep-ml.com/problems/35"
      ],
      "metadata": {
        "id": "wJUZdu18TG-H"
      }
    },
    {
      "cell_type": "code",
      "source": [
        "import numpy as np\n",
        "\n",
        "def make_diagonal(x):\n",
        "\t# Your code here\n",
        "\treturn np.diag(x)"
      ],
      "metadata": {
        "id": "leIvylvkWkre"
      },
      "execution_count": null,
      "outputs": []
    },
    {
      "cell_type": "markdown",
      "source": [
        "Easy\n",
        "https://www.deep-ml.com/problems/83\n"
      ],
      "metadata": {
        "id": "DFTQ6pRdXwpN"
      }
    },
    {
      "cell_type": "code",
      "source": [
        "import numpy as np\n",
        "\n",
        "def calculate_dot_product(vec1, vec2) -> float:\n",
        "\t\"\"\"\n",
        "\tCalculate the dot product of two vectors.\n",
        "\tArgs:\n",
        "\t\tvec1 (numpy.ndarray): 1D array representing the first vector.\n",
        "\t\tvec2 (numpy.ndarray): 1D array representing the second vector.\n",
        "\t\"\"\"\n",
        "\t# Your code here\n",
        "\treturn np.dot(vec1, vec2)"
      ],
      "metadata": {
        "id": "7eNWs3CuXxoW"
      },
      "execution_count": null,
      "outputs": []
    },
    {
      "cell_type": "markdown",
      "source": [
        "Easy\n",
        "https://www.deep-ml.com/problems/121"
      ],
      "metadata": {
        "id": "_8x-sXLpZEpv"
      }
    },
    {
      "cell_type": "code",
      "source": [],
      "metadata": {
        "id": "HGbOG5qCZUQ1"
      },
      "execution_count": null,
      "outputs": []
    }
  ]
}