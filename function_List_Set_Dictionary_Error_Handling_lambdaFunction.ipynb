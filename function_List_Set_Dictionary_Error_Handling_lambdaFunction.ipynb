{
  "nbformat": 4,
  "nbformat_minor": 0,
  "metadata": {
    "colab": {
      "provenance": []
    },
    "kernelspec": {
      "name": "python3",
      "display_name": "Python 3"
    },
    "language_info": {
      "name": "python"
    }
  },
  "cells": [
    {
      "cell_type": "code",
      "execution_count": null,
      "metadata": {
        "colab": {
          "base_uri": "https://localhost:8080/"
        },
        "id": "0Vdk0nawxoSP",
        "outputId": "91975feb-b829-4732-eba5-f8af6385ff6d"
      },
      "outputs": [
        {
          "output_type": "stream",
          "name": "stdout",
          "text": [
            "75\n",
            "33\n"
          ]
        }
      ],
      "source": [
        "def sum(num1,num2,*numbers):\n",
        "  sum=num1+num2\n",
        "  for num in numbers:\n",
        "    sum=sum+num\n",
        "  return sum\n",
        "total=sum(10,20,1,2,3,4,5,6,7,8,9)\n",
        "total1=sum(10,20,1,2)\n",
        "print(total)\n",
        "print(total1)"
      ]
    },
    {
      "cell_type": "code",
      "source": [
        "def sum_total(*args):\n",
        "  total=0\n",
        "  for num in args:\n",
        "    total=total+num\n",
        "  return total\n",
        "total=sum_total(10,20,30,40,50)\n",
        "print(total)\n",
        "total1=sum_total()\n",
        "print(total1)\n",
        "total=sum_total(10)\n",
        "print(total)\n"
      ],
      "metadata": {
        "colab": {
          "base_uri": "https://localhost:8080/"
        },
        "id": "AkssLhAuy7CL",
        "outputId": "997a6906-863e-4deb-e763-5fa65955b11c"
      },
      "execution_count": null,
      "outputs": [
        {
          "output_type": "stream",
          "name": "stdout",
          "text": [
            "150\n",
            "0\n",
            "10\n"
          ]
        }
      ]
    },
    {
      "cell_type": "code",
      "source": [
        "def full_name(first,last):\n",
        "  name=f'{first} {last}'\n",
        "  return name\n",
        "name = full_name(\"Ayesha\",\"Siddika\")\n",
        "print(name)"
      ],
      "metadata": {
        "colab": {
          "base_uri": "https://localhost:8080/"
        },
        "id": "PpAG5MWC0J1s",
        "outputId": "90ed72d1-17e7-4c9b-b776-20301e69bdee"
      },
      "execution_count": null,
      "outputs": [
        {
          "output_type": "stream",
          "name": "stdout",
          "text": [
            "Ayesha Siddika\n"
          ]
        }
      ]
    },
    {
      "cell_type": "code",
      "source": [
        "def full_name(first,last,**addition):\n",
        "  name=f'{first} {last}'\n",
        "  for key,value in addition.items():\n",
        "    print (key ,value)\n",
        "  return name\n",
        "name = full_name(first=\"Ayesha\",last=\"Siddika\",title=\"Ms\",add=\"Khatun\")\n",
        "print(name)"
      ],
      "metadata": {
        "colab": {
          "base_uri": "https://localhost:8080/"
        },
        "id": "YrKgLj9ozn-l",
        "outputId": "ea9826e6-6b94-4fcc-e3de-3bd93aa47c17"
      },
      "execution_count": null,
      "outputs": [
        {
          "output_type": "stream",
          "name": "stdout",
          "text": [
            "title Ms\n",
            "add Khatun\n",
            "Ayesha Siddika\n"
          ]
        }
      ]
    },
    {
      "cell_type": "code",
      "source": [
        "def a_lot(n1,n2):\n",
        "  sum=n1+n2\n",
        "  mul=n1*n2\n",
        "  remin=n1%n1\n",
        "  return sum,mul,remin\n",
        "a = a_lot(20,7)\n",
        "print(a,type(a))\n",
        "print(list[a])"
      ],
      "metadata": {
        "colab": {
          "base_uri": "https://localhost:8080/"
        },
        "id": "EwW_PJDZ6BFy",
        "outputId": "ac32213d-3b72-4e4b-eb44-98f5851603cb"
      },
      "execution_count": null,
      "outputs": [
        {
          "output_type": "stream",
          "name": "stdout",
          "text": [
            "(27, 140, 0) <class 'tuple'>\n",
            "list[27, 140, 0]\n"
          ]
        }
      ]
    },
    {
      "cell_type": "markdown",
      "source": [
        "**Local and Global Scope in Python**"
      ],
      "metadata": {
        "id": "cXrhikdg7GOL"
      }
    },
    {
      "cell_type": "code",
      "source": [
        "balance=161\n",
        "def buy_things():\n",
        "  global balance\n",
        "  balance=balance-100\n",
        "  print(balance)\n",
        "buy_things()\n",
        "print(balance)"
      ],
      "metadata": {
        "colab": {
          "base_uri": "https://localhost:8080/"
        },
        "id": "GTb6Fo1s7M8X",
        "outputId": "515daae2-cce1-4b5d-a4a3-ddc47de09192"
      },
      "execution_count": null,
      "outputs": [
        {
          "output_type": "stream",
          "name": "stdout",
          "text": [
            "61\n",
            "61\n"
          ]
        }
      ]
    },
    {
      "cell_type": "markdown",
      "source": [
        "**Built-in function and import modules**\n",
        "\n",
        "\n"
      ],
      "metadata": {
        "id": "e_QMPN1Z-XJt"
      }
    },
    {
      "cell_type": "code",
      "source": [
        "highest=max([200,100,500,20,300])\n",
        "print(highest)\n",
        "lowest=min([200,100,500,20,300])\n",
        "print(lowest)\n"
      ],
      "metadata": {
        "colab": {
          "base_uri": "https://localhost:8080/"
        },
        "id": "MMLUNeVX-fSo",
        "outputId": "8d8742c2-4dba-4980-c5b7-427ae4820109"
      },
      "execution_count": null,
      "outputs": [
        {
          "output_type": "stream",
          "name": "stdout",
          "text": [
            "500\n",
            "20\n"
          ]
        }
      ]
    },
    {
      "cell_type": "code",
      "source": [
        "def any(lis):\n",
        "  for num in lis:\n",
        "    if num:\n",
        "      return True\n",
        "    return False"
      ],
      "metadata": {
        "id": "g0TAoAOK_l2u"
      },
      "execution_count": null,
      "outputs": []
    },
    {
      "cell_type": "markdown",
      "source": [
        "**List,List index and slice**"
      ],
      "metadata": {
        "id": "FqDhfj0l-qbB"
      }
    },
    {
      "cell_type": "code",
      "source": [
        "numbers=[45,56,12,89,49,90,34,93,42]\n",
        "print(numbers[-1],numbers[1])\n",
        "print(numbers[0:len(numbers)])\n",
        "print(numbers[0:len(numbers):2])\n",
        "print(numbers[-1:-len(numbers)-1:-1])\n",
        "print(numbers[len(numbers):0:-1])\n",
        "print(numbers[:])\n",
        "print(numbers[:5])\n",
        "print(numbers[3:])\n",
        "print(numbers[::-1])\n",
        "\n",
        "\n"
      ],
      "metadata": {
        "colab": {
          "base_uri": "https://localhost:8080/"
        },
        "id": "xV1ar66l-yt7",
        "outputId": "94d88622-dbbe-423d-fdb5-2102cde1ec39"
      },
      "execution_count": null,
      "outputs": [
        {
          "output_type": "stream",
          "name": "stdout",
          "text": [
            "42 56\n",
            "[45, 56, 12, 89, 49, 90, 34, 93, 42]\n",
            "[45, 12, 49, 34, 42]\n",
            "[42, 93, 34, 90, 49, 89, 12, 56, 45]\n",
            "[42, 93, 34, 90, 49, 89, 12, 56]\n",
            "[45, 56, 12, 89, 49, 90, 34, 93, 42]\n",
            "[45, 56, 12, 89, 49]\n",
            "[89, 49, 90, 34, 93, 42]\n",
            "[42, 93, 34, 90, 49, 89, 12, 56, 45]\n"
          ]
        }
      ]
    },
    {
      "cell_type": "markdown",
      "source": [
        "**List Methods**"
      ],
      "metadata": {
        "id": "k3cBzXXlEMKo"
      }
    },
    {
      "cell_type": "code",
      "source": [
        "nums=[10,20,30,40]\n",
        "nums.append(60)\n",
        "print(nums)\n",
        "index=nums.index(10)\n",
        "print(index)"
      ],
      "metadata": {
        "colab": {
          "base_uri": "https://localhost:8080/"
        },
        "id": "rKBwTLv5ERbC",
        "outputId": "477aa681-7b4c-4ed4-c61d-c8cf53fff46c"
      },
      "execution_count": null,
      "outputs": [
        {
          "output_type": "stream",
          "name": "stdout",
          "text": [
            "[10, 20, 30, 40, 60]\n",
            "0\n"
          ]
        }
      ]
    },
    {
      "cell_type": "code",
      "source": [
        "numbers=[45,56,12,89,49,90,34,93,42]\n",
        "numbers.sort()\n",
        "print(numbers)\n",
        "numbers.reverse()\n",
        "print(numbers)\n"
      ],
      "metadata": {
        "colab": {
          "base_uri": "https://localhost:8080/"
        },
        "id": "lLOONp1nILGQ",
        "outputId": "bdfe36b4-1a76-4b35-fc28-501244577439"
      },
      "execution_count": null,
      "outputs": [
        {
          "output_type": "stream",
          "name": "stdout",
          "text": [
            "[12, 34, 42, 45, 49, 56, 89, 90, 93]\n",
            "[93, 90, 89, 56, 49, 45, 42, 34, 12]\n"
          ]
        }
      ]
    },
    {
      "cell_type": "code",
      "source": [
        "numbers=[45,56,12,89,49,90,34,93,42,100,200,43]\n",
        "odds=[]\n",
        "for num in numbers:\n",
        "  if num%2==1 and num%5==0:\n",
        "    odds.append(num)\n",
        "print(odds)"
      ],
      "metadata": {
        "colab": {
          "base_uri": "https://localhost:8080/"
        },
        "id": "duYdyZVdKPdb",
        "outputId": "83221806-3b54-42f8-c735-3f82a0826bd3"
      },
      "execution_count": null,
      "outputs": [
        {
          "output_type": "stream",
          "name": "stdout",
          "text": [
            "[45]\n"
          ]
        }
      ]
    },
    {
      "cell_type": "code",
      "source": [
        "numbers=[45,56,12,89,49,90,34,93,42,100,200,43]\n",
        "odd_nums=[num for num in numbers if num%2!=0]\n",
        "print(odd_nums)"
      ],
      "metadata": {
        "colab": {
          "base_uri": "https://localhost:8080/"
        },
        "id": "f6oNjn6WK4Tt",
        "outputId": "ac098662-e3d8-4168-d582-e461285e1aac"
      },
      "execution_count": null,
      "outputs": [
        {
          "output_type": "stream",
          "name": "stdout",
          "text": [
            "[45, 89, 49, 93, 43]\n"
          ]
        }
      ]
    },
    {
      "cell_type": "code",
      "source": [
        "numbers=[45,56,12,89,49,90,34,93,42,100,200,43]\n",
        "evens=[num for num in numbers if num%2==0 and num>50]\n",
        "print(evens)"
      ],
      "metadata": {
        "colab": {
          "base_uri": "https://localhost:8080/"
        },
        "id": "uZkO9lLHLU9d",
        "outputId": "98efe9ce-9a45-4ab0-d2fb-15b4d5b6b124"
      },
      "execution_count": null,
      "outputs": [
        {
          "output_type": "stream",
          "name": "stdout",
          "text": [
            "[56, 90, 100, 200]\n"
          ]
        }
      ]
    },
    {
      "cell_type": "markdown",
      "source": [
        "String Immutable and string methods"
      ],
      "metadata": {
        "id": "36tDQIuOOUnz"
      }
    },
    {
      "cell_type": "code",
      "source": [
        "name=\"Ayesha Siddika\"\n",
        "name1=\"\"\"\n",
        "    Ayesha\n",
        "    Siddika\n",
        "    Shohana\n",
        "      \"\"\"\n",
        "print(name,name1)\n",
        "for char in name:\n",
        "  print(char)\n",
        "print(name[::-1])"
      ],
      "metadata": {
        "colab": {
          "base_uri": "https://localhost:8080/"
        },
        "id": "8O9Q4D9fOPYQ",
        "outputId": "416a2a73-c5b4-4b3e-c47a-340306b73b58"
      },
      "execution_count": null,
      "outputs": [
        {
          "output_type": "stream",
          "name": "stdout",
          "text": [
            "Ayesha Siddika \n",
            "    Ayesha\n",
            "    Siddika\n",
            "    Shohana\n",
            "      \n",
            "A\n",
            "y\n",
            "e\n",
            "s\n",
            "h\n",
            "a\n",
            " \n",
            "S\n",
            "i\n",
            "d\n",
            "d\n",
            "i\n",
            "k\n",
            "a\n",
            "akiddiS ahseyA\n"
          ]
        }
      ]
    },
    {
      "cell_type": "code",
      "source": [
        "name=\"Ayesha Siddika\"\n",
        "if 'Ayes' in name:\n",
        "  print('exist')\n",
        "else:\n",
        "  print(\"Not exist\")"
      ],
      "metadata": {
        "colab": {
          "base_uri": "https://localhost:8080/"
        },
        "id": "phNKwydHPtus",
        "outputId": "e1780f24-9fe1-4fc6-b34a-f8824094d549"
      },
      "execution_count": null,
      "outputs": [
        {
          "output_type": "stream",
          "name": "stdout",
          "text": [
            "exist\n"
          ]
        }
      ]
    },
    {
      "cell_type": "code",
      "source": [
        "def mul():\n",
        "  return 3,4\n",
        "print(mul())"
      ],
      "metadata": {
        "colab": {
          "base_uri": "https://localhost:8080/"
        },
        "id": "3eF9gblkRjnC",
        "outputId": "d4ca0c16-0572-4abc-a9d5-ca91247aa882"
      },
      "execution_count": null,
      "outputs": [
        {
          "output_type": "stream",
          "name": "stdout",
          "text": [
            "(3, 4)\n"
          ]
        }
      ]
    },
    {
      "cell_type": "markdown",
      "source": [
        "**SET and SET methods in Python**\n"
      ],
      "metadata": {
        "id": "_lgzr2R2YkJR"
      }
    },
    {
      "cell_type": "code",
      "source": [
        "seta={10,20,30,40,50}\n",
        "setb={100,20,30,60,15}\n",
        "print(seta & setb)\n",
        "print(seta | setb)\n"
      ],
      "metadata": {
        "colab": {
          "base_uri": "https://localhost:8080/"
        },
        "id": "9DAgGO36YpqE",
        "outputId": "8fec7f84-3a98-4ce4-b328-e85015d10dc8"
      },
      "execution_count": null,
      "outputs": [
        {
          "output_type": "stream",
          "name": "stdout",
          "text": [
            "{20, 30}\n",
            "{100, 40, 10, 15, 50, 20, 60, 30}\n"
          ]
        }
      ]
    },
    {
      "cell_type": "code",
      "source": [
        "list=[1,2,3,4,10,7,9,0,8]\n",
        "peron1=['kala chan','Kali pur']\n",
        "person={'name':'Ayesha','roll':'10','adress':'korotia'}\n",
        "print(person)\n",
        "print(person['name'])\n",
        "print(person.keys())\n",
        "print(person.values())\n",
        "person['language']='python'"
      ],
      "metadata": {
        "colab": {
          "base_uri": "https://localhost:8080/"
        },
        "id": "2NGws6B4bSyy",
        "outputId": "ec88a066-9c0b-427b-dccf-f818a63725e8"
      },
      "execution_count": null,
      "outputs": [
        {
          "output_type": "stream",
          "name": "stdout",
          "text": [
            "{'name': 'Ayesha', 'roll': '10', 'adress': 'korotia'}\n",
            "Ayesha\n",
            "dict_keys(['name', 'roll', 'adress'])\n",
            "dict_values(['Ayesha', '10', 'korotia'])\n"
          ]
        }
      ]
    },
    {
      "cell_type": "code",
      "source": [
        "person={'name':'Ayesha','roll':'10','adress':'korotia'}\n",
        "for key,value in person.items():\n",
        "  print(key,\"  \",value)"
      ],
      "metadata": {
        "colab": {
          "base_uri": "https://localhost:8080/"
        },
        "id": "HGoxBVkpc6TU",
        "outputId": "c37ef1f4-901f-4c36-ec6b-8928fbffd9a7"
      },
      "execution_count": null,
      "outputs": [
        {
          "output_type": "stream",
          "name": "stdout",
          "text": [
            "name    Ayesha\n",
            "roll    10\n",
            "adress    korotia\n"
          ]
        }
      ]
    },
    {
      "cell_type": "code",
      "source": [
        "numbers=[12,56,98,78,56,12,6,98]\n",
        "for i,num in enumerate(numbers):\n",
        "  print(i,num)"
      ],
      "metadata": {
        "colab": {
          "base_uri": "https://localhost:8080/"
        },
        "id": "zUfV62-meAsM",
        "outputId": "1762d45a-6184-431f-8908-a658d0f00656"
      },
      "execution_count": null,
      "outputs": [
        {
          "output_type": "stream",
          "name": "stdout",
          "text": [
            "0 12\n",
            "1 56\n",
            "2 98\n",
            "3 78\n",
            "4 56\n",
            "5 12\n",
            "6 6\n",
            "7 98\n"
          ]
        }
      ]
    },
    {
      "cell_type": "markdown",
      "source": [
        "**Try except finally and file read write in python**"
      ],
      "metadata": {
        "id": "EiYzuuj8jaFa"
      }
    },
    {
      "cell_type": "code",
      "source": [
        "try:\n",
        "  result=45/0\n",
        "  print(result)\n",
        "except:\n",
        "  print(\"Error happend\")\n",
        "finally:\n",
        "  print(\"Finally here\")\n",
        "print('Done')"
      ],
      "metadata": {
        "colab": {
          "base_uri": "https://localhost:8080/"
        },
        "id": "aewwpfPCji2P",
        "outputId": "a50d8e39-76b6-48d5-ee83-dafdb23a2b58"
      },
      "execution_count": null,
      "outputs": [
        {
          "output_type": "stream",
          "name": "stdout",
          "text": [
            "Error happend\n",
            "Finally here\n",
            "Done\n"
          ]
        }
      ]
    },
    {
      "cell_type": "code",
      "source": [
        "try:\n",
        "  result=45/5\n",
        "  print(result)\n",
        "except:\n",
        "  print(\"Error happend\")\n",
        "finally:\n",
        "  print(\"Finally here\")\n",
        "print('Done')"
      ],
      "metadata": {
        "colab": {
          "base_uri": "https://localhost:8080/"
        },
        "id": "wijTf7JDkmoX",
        "outputId": "131a1cc9-4440-4b25-ef44-e36067d61c26"
      },
      "execution_count": null,
      "outputs": [
        {
          "output_type": "stream",
          "name": "stdout",
          "text": [
            "9.0\n",
            "Finally here\n",
            "Done\n"
          ]
        }
      ]
    },
    {
      "cell_type": "markdown",
      "source": [
        "**Lambda Function**"
      ],
      "metadata": {
        "id": "qq7hsWTpmhtt"
      }
    },
    {
      "cell_type": "code",
      "source": [
        "def doubled(x):\n",
        "  return x*2\n",
        "\n",
        "doubled=lambda num:num*2\n"
      ],
      "metadata": {
        "id": "Suh9VGzAmnfD"
      },
      "execution_count": null,
      "outputs": []
    },
    {
      "cell_type": "code",
      "source": [
        "add=lambda x,y:x+y\n",
        "a=add(10,20)\n",
        "print(a)"
      ],
      "metadata": {
        "colab": {
          "base_uri": "https://localhost:8080/"
        },
        "id": "R5MhdbVZnVSo",
        "outputId": "3707bc68-de66-4d8c-c585-b79b3600d03b"
      },
      "execution_count": null,
      "outputs": [
        {
          "output_type": "stream",
          "name": "stdout",
          "text": [
            "30\n"
          ]
        }
      ]
    },
    {
      "cell_type": "code",
      "source": [
        "# map\n",
        "numbers=[12,56,98,78,56,12,6,98]\n",
        "doubled-nums=map()"
      ],
      "metadata": {
        "id": "1Aiiz5qKnqTw"
      },
      "execution_count": null,
      "outputs": []
    }
  ]
}