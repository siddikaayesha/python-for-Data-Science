{
  "nbformat": 4,
  "nbformat_minor": 0,
  "metadata": {
    "colab": {
      "provenance": []
    },
    "kernelspec": {
      "name": "python3",
      "display_name": "Python 3"
    },
    "language_info": {
      "name": "python"
    }
  },
  "cells": [
    {
      "cell_type": "markdown",
      "source": [
        "##  **File**\n",
        "We must need to close a file when we open a file to prevent data leakage."
      ],
      "metadata": {
        "id": "oSIqWo9crbwp"
      }
    },
    {
      "cell_type": "code",
      "source": [
        "file=open(\"./sample_data/sample.txt\",'r')\n",
        "content=file.read()\n",
        "print(content)\n",
        "print(type(content))"
      ],
      "metadata": {
        "colab": {
          "base_uri": "https://localhost:8080/"
        },
        "id": "eMf4Ixe-rfUO",
        "outputId": "fe6fe9dc-6501-47f3-99ea-ba329595d471"
      },
      "execution_count": null,
      "outputs": [
        {
          "output_type": "stream",
          "name": "stdout",
          "text": [
            "Hello Ayesha !\n",
            "How is your ielst reading goinf onI suppose its well\n",
            "<class 'str'>\n"
          ]
        }
      ]
    },
    {
      "cell_type": "code",
      "source": [
        "file=open(\"./sample_data/sample.txt\",'r')\n",
        "content=file.read()\n",
        "print(content)"
      ],
      "metadata": {
        "colab": {
          "base_uri": "https://localhost:8080/"
        },
        "id": "jp-fhMSRwXpd",
        "outputId": "8b20fca7-e2c7-4c30-e5b8-3d1fddf87903"
      },
      "execution_count": null,
      "outputs": [
        {
          "output_type": "stream",
          "name": "stdout",
          "text": [
            "Hello Ayesha !\n",
            "How is your ielst reading goinf onI suppose its well\n"
          ]
        }
      ]
    },
    {
      "cell_type": "code",
      "source": [
        "file=open(\"./sample_data/sample.txt\",'r')\n",
        "#redlines shows line by line\n",
        "content=file.readlines()\n",
        "print(content)\n",
        "print(type(content))"
      ],
      "metadata": {
        "id": "BDeO_sexrfrC",
        "colab": {
          "base_uri": "https://localhost:8080/"
        },
        "outputId": "f1071a36-8ebf-4022-d300-795c97df672a"
      },
      "execution_count": null,
      "outputs": [
        {
          "output_type": "stream",
          "name": "stdout",
          "text": [
            "['Hello Ayesha !\\n', 'How is your ielst reading goinf onI suppose its well']\n",
            "<class 'list'>\n"
          ]
        }
      ]
    },
    {
      "cell_type": "markdown",
      "source": [
        "# **File Read**\n",
        "\n",
        "\n"
      ],
      "metadata": {
        "id": "fgNoXlgVrgGu"
      }
    },
    {
      "cell_type": "code",
      "source": [
        "#through with keyword file can be automatically closed after using it.\n",
        "with open(\"./sample_data/sample.txt\",'r') as file:\n",
        "  for line in file:\n",
        "    print(line,end=\" \")"
      ],
      "metadata": {
        "id": "iCv6_KRwrgfq",
        "colab": {
          "base_uri": "https://localhost:8080/"
        },
        "outputId": "13cbb9cd-94fd-41dd-a9bd-669a653f5719"
      },
      "execution_count": null,
      "outputs": [
        {
          "output_type": "stream",
          "name": "stdout",
          "text": [
            "Hello Ayesha !\n",
            " How is your ielst reading goinf onI suppose its well "
          ]
        }
      ]
    },
    {
      "cell_type": "code",
      "source": [
        "with open(\"./sample_data/sample.txt\",'r') as file:\n",
        "  for line in file:\n",
        "    l=line.strip(\"\")\n",
        "    print(l)"
      ],
      "metadata": {
        "id": "d0Ru_pVWrgjB",
        "colab": {
          "base_uri": "https://localhost:8080/"
        },
        "outputId": "0467df5f-851c-450f-a3c5-3756a4be067d"
      },
      "execution_count": null,
      "outputs": [
        {
          "output_type": "stream",
          "name": "stdout",
          "text": [
            "Hello Ayesha !\n",
            "\n",
            "How is your ielst reading goinf onI suppose its well\n"
          ]
        }
      ]
    },
    {
      "cell_type": "markdown",
      "source": [
        "# **File Write & Append**\n",
        "file can be created in write mood"
      ],
      "metadata": {
        "id": "xN_evJaWrgvj"
      }
    },
    {
      "cell_type": "code",
      "source": [
        "with open(\"./sample_data/test.txt\",'w') as file:\n",
        "  file.write(\"Hello Learners\\n\")\n",
        "  file.write(\"How is your ML learning Going on?\")"
      ],
      "metadata": {
        "id": "KXAm4U07rg7d"
      },
      "execution_count": null,
      "outputs": []
    },
    {
      "cell_type": "code",
      "source": [
        "with open(\"./sample_data/test.txt\",'w') as file:\n",
        "  file.write(\"Hello Sinha \\n\")\n",
        "  file.write(\"How is your ML learning Going on?\")"
      ],
      "metadata": {
        "id": "9zWipI9frg_m"
      },
      "execution_count": null,
      "outputs": []
    },
    {
      "cell_type": "code",
      "source": [
        "with open(\"./sample_data/test.txt\",'a') as file:\n",
        "  file.write(\"\\nHello Sam\\n\")\n",
        "  file.write(\"ML learning is fun\")"
      ],
      "metadata": {
        "id": "u3GBJtxf0i4q"
      },
      "execution_count": null,
      "outputs": []
    },
    {
      "cell_type": "code",
      "source": [
        "file=open(\"./sample_data/test.txt\",'r')\n",
        "content=file.readlines()\n",
        "print(content)\n",
        "content=list(map(str.strip,content))\n",
        "print(content)\n",
        "filter_content=list(filter(lambda x:len(x)>=1,content))\n",
        "print(filter_content)"
      ],
      "metadata": {
        "colab": {
          "base_uri": "https://localhost:8080/"
        },
        "id": "EeUfDMMj1Ddp",
        "outputId": "5b867819-6c52-4ab9-b577-0b4cc37188f6"
      },
      "execution_count": null,
      "outputs": [
        {
          "output_type": "stream",
          "name": "stdout",
          "text": [
            "['Hello Sinha \\n', 'How is your ML learning Going on?\\n', 'Hello Sam\\n', 'ML learning is fun']\n",
            "['Hello Sinha', 'How is your ML learning Going on?', 'Hello Sam', 'ML learning is fun']\n",
            "['Hello Sinha', 'How is your ML learning Going on?', 'Hello Sam', 'ML learning is fun']\n"
          ]
        }
      ]
    },
    {
      "cell_type": "code",
      "source": [
        "new_lst=['Hello','Whats up','How are you','Good bye']\n",
        "with open(\"./sample_data/test.txt\",'a') as file:\n",
        "  file.writelines(new_lst)"
      ],
      "metadata": {
        "id": "wFQA17e63r80"
      },
      "execution_count": null,
      "outputs": []
    },
    {
      "cell_type": "code",
      "source": [
        "\n",
        "file=open(\"./sample_data/test.txt\",'r')\n",
        "for line in file:\n",
        "  print(line)"
      ],
      "metadata": {
        "colab": {
          "base_uri": "https://localhost:8080/"
        },
        "id": "IvpxAnHk4iNS",
        "outputId": "ce2037ab-7299-44a2-c0fd-d1cc54a6357c"
      },
      "execution_count": null,
      "outputs": [
        {
          "output_type": "stream",
          "name": "stdout",
          "text": [
            "Hello Sinha \n",
            "\n",
            "How is your ML learning Going on?\n",
            "\n",
            "Hello Sam\n",
            "\n",
            "ML learning is funHelloWhats upHow are youGood bye\n"
          ]
        }
      ]
    },
    {
      "cell_type": "markdown",
      "source": [
        "# **File Pointer**\n",
        "\n",
        "cursor control"
      ],
      "metadata": {
        "id": "O2wGkq1crhMp"
      }
    },
    {
      "cell_type": "code",
      "source": [
        "with open(\"./sample_data/sample.txt\",'r') as file:\n",
        "  print(file.tell())\n",
        "  print(file.read(5))\n",
        "  print(file.tell())\n",
        "  print(file.read())\n",
        "  print(file.tell())"
      ],
      "metadata": {
        "id": "dXT8Eh31rhWl",
        "colab": {
          "base_uri": "https://localhost:8080/"
        },
        "outputId": "b9276deb-2bc0-4b48-d3c4-e1de0261b931"
      },
      "execution_count": null,
      "outputs": [
        {
          "output_type": "stream",
          "name": "stdout",
          "text": [
            "0\n",
            "Hello\n",
            "5\n",
            " Ayesha !\n",
            "How is your ielst reading goinf onI suppose its well\n",
            "67\n"
          ]
        }
      ]
    },
    {
      "cell_type": "code",
      "source": [
        "with open(\"./sample_data/sample.txt\",'r') as file:\n",
        "  print(file.tell())\n",
        "  file.read()\n",
        "  print(file.tell())\n",
        "  file.seek(5)\n",
        "  print(file.tell())\n",
        "  print(file.read())\n",
        "\n"
      ],
      "metadata": {
        "id": "3h8hfQr9rhZ2",
        "colab": {
          "base_uri": "https://localhost:8080/"
        },
        "outputId": "4a87d9be-3a02-4503-ae48-e927b0a16f1f"
      },
      "execution_count": null,
      "outputs": [
        {
          "output_type": "stream",
          "name": "stdout",
          "text": [
            "0\n",
            "67\n",
            "5\n",
            " Ayesha !\n",
            "How is your ielst reading goinf onI suppose its well\n"
          ]
        }
      ]
    },
    {
      "cell_type": "markdown",
      "source": [
        "# **File problem**"
      ],
      "metadata": {
        "id": "YTXgtNXjrhpW"
      }
    },
    {
      "cell_type": "markdown",
      "source": [
        "#Practice 1 :\n",
        "Get the text from sample.txt , and count the following\n",
        "\n",
        "Number of lines\n",
        "\n",
        "Number of words\n",
        "\n",
        "Number of characters\n",
        "\n",
        "and save it to the counter_of_string.txt file"
      ],
      "metadata": {
        "id": "GjIY1leF7ibe"
      }
    },
    {
      "cell_type": "code",
      "source": [
        "with open(\"./sample_data/sample.txt\",'w') as file:\n",
        "  file.write(\"Hello Learners\\n\")\n",
        "  file.write(\"How is your ML learning Going on?\")\n"
      ],
      "metadata": {
        "id": "O7tQaOEgrhxl"
      },
      "execution_count": 4,
      "outputs": []
    },
    {
      "cell_type": "code",
      "source": [
        "with open('./sample_data/sample.txt','w') as file:\n",
        "  file.write(\"Hello Ayesha !\\n\")\n",
        "  file.write(\"How is your ielst reading goinf on\")\n",
        "  file.write(\"I suppose its well\")\n",
        "with open('./sample_data/sample.txt','r') as file:\n",
        "  for line in file:\n",
        "    print(line)"
      ],
      "metadata": {
        "id": "jJAFrY4jrh0j",
        "colab": {
          "base_uri": "https://localhost:8080/"
        },
        "outputId": "7b252af9-af0e-4a0c-d3ca-478a562e4a3a"
      },
      "execution_count": 5,
      "outputs": [
        {
          "output_type": "stream",
          "name": "stdout",
          "text": [
            "Hello Ayesha !\n",
            "\n",
            "How is your ielst reading goinf onI suppose its well\n"
          ]
        }
      ]
    },
    {
      "cell_type": "code",
      "source": [
        "with open(\"./sample_data/sample.txt\",'r') as file:\n",
        "  count=0\n",
        "  for line in file:\n",
        "    for word in line.split():\n",
        "      count+=1\n",
        "  print(count)"
      ],
      "metadata": {
        "colab": {
          "base_uri": "https://localhost:8080/"
        },
        "id": "cywKalBu1oGE",
        "outputId": "3dc9df3c-4a9f-4951-c7b4-c75475a78738"
      },
      "execution_count": 6,
      "outputs": [
        {
          "output_type": "stream",
          "name": "stdout",
          "text": [
            "13\n"
          ]
        }
      ]
    },
    {
      "cell_type": "code",
      "source": [
        "with open(\"./sample_data/sample.txt\",'r') as file:\n",
        "  count=0\n",
        "  for line in file:\n",
        "    for word in line.split():\n",
        "      for char in word:\n",
        "        count+=1\n",
        "  print(count)"
      ],
      "metadata": {
        "colab": {
          "base_uri": "https://localhost:8080/"
        },
        "id": "5ggGoyBk2T_M",
        "outputId": "8a55dbb0-8e68-40b5-c168-543128af4b79"
      },
      "execution_count": 7,
      "outputs": [
        {
          "output_type": "stream",
          "name": "stdout",
          "text": [
            "55\n"
          ]
        }
      ]
    },
    {
      "cell_type": "code",
      "source": [
        "with open(\"./sample_data/sample.txt\",'r') as file:\n",
        "  strings=file.readlines()\n",
        "  print(strings)\n",
        "  total_lines=len(strings)\n",
        "  print(total_lines)"
      ],
      "metadata": {
        "colab": {
          "base_uri": "https://localhost:8080/"
        },
        "id": "S-QjCtvQ2q-1",
        "outputId": "5ed88059-ca35-4c9d-a8ad-20271d144ee9"
      },
      "execution_count": 8,
      "outputs": [
        {
          "output_type": "stream",
          "name": "stdout",
          "text": [
            "['Hello Ayesha !\\n', 'How is your ielst reading goinf onI suppose its well']\n",
            "2\n"
          ]
        }
      ]
    },
    {
      "cell_type": "code",
      "source": [
        "from functools import reduce\n",
        "with open(\"./sample_data/sample.txt\",'r') as file:\n",
        "  strings=file.readlines()\n",
        "  str_len=len(strings)\n",
        "  number_of_words=list(map(lambda x:len(x.split()),strings))\n",
        "  print(number_of_words)\n",
        "  total_number_words=reduce(lambda x,y:x+y,number_of_words)\n",
        "  print(total_number_words)\n",
        "  string_list=list(map(lambda x:str.split,strings))\n",
        "  print(strings)"
      ],
      "metadata": {
        "id": "iP6sfLjuMCp0",
        "colab": {
          "base_uri": "https://localhost:8080/"
        },
        "outputId": "e012d179-9ffd-4f18-f143-600d9554a4ab"
      },
      "execution_count": 9,
      "outputs": [
        {
          "output_type": "stream",
          "name": "stdout",
          "text": [
            "[3, 10]\n",
            "13\n",
            "['Hello Ayesha !\\n', 'How is your ielst reading goinf onI suppose its well']\n"
          ]
        }
      ]
    },
    {
      "cell_type": "code",
      "source": [
        "with open(\"./sample_data/sample.txt\",'r') as file:\n",
        "  strings=file.readlines()\n",
        "  string_list=list(map(lambda x:str.strip,strings))\n",
        "  print(strings)"
      ],
      "metadata": {
        "id": "4xRoQEDxPN91",
        "colab": {
          "base_uri": "https://localhost:8080/"
        },
        "outputId": "5aaf6d5a-158b-464b-e1a1-880a03d40486"
      },
      "execution_count": 10,
      "outputs": [
        {
          "output_type": "stream",
          "name": "stdout",
          "text": [
            "['Hello Ayesha !\\n', 'How is your ielst reading goinf onI suppose its well']\n"
          ]
        }
      ]
    },
    {
      "cell_type": "code",
      "source": [
        "from functools import reduce\n",
        "\n",
        "with open(\"./sample_data/sample.txt\",\"r\") as file:\n",
        "  string_list = file.readlines()\n",
        "\n",
        "  # total line koita\n",
        "  total_lines = len(string_list)\n",
        "\n",
        "  # word ber korbo\n",
        "  number_of_words = list(map(lambda x : len(x.split()),string_list))\n",
        "  #total words\n",
        "  total_number_of_words = reduce(lambda x,y : x+y ,number_of_words)\n",
        "\n",
        "  #cleaning process\n",
        "\n",
        "  # 1. new line delete\n",
        "  string_list = list(map(str.strip,string_list))\n",
        "\n",
        "  #2. space delete\n",
        "\n",
        "  string_list = list(map(lambda x : x.replace(\" \",\"\"),string_list))\n",
        "\n",
        "  # koita character\n",
        "\n",
        "  number_of_character = list(map(lambda x : len(x),string_list))\n",
        "\n",
        "  # total character\n",
        "  total_number_of_characters = reduce(lambda x,y : x+y ,number_of_character)\n",
        "\n",
        "\n",
        "\n",
        "with open(\"./sample_data/counter_of_string.txt\",\"w\") as file:\n",
        "  file.write(f\"total line: {total_lines}\\ntotal number of words:{total_number_of_words}\\ntotal number of char: {total_number_of_characters}\")\n",
        "\n",
        "\n",
        "\n"
      ],
      "metadata": {
        "id": "P4BdMHUMP6vb"
      },
      "execution_count": 11,
      "outputs": []
    },
    {
      "cell_type": "markdown",
      "source": [
        "#Practice 2\n",
        "Write then read with one open"
      ],
      "metadata": {
        "id": "XjKME9M77sMz"
      }
    },
    {
      "cell_type": "code",
      "source": [
        "\n",
        "with open(\"./sample_data/write_read.txt\",\"w+\") as file:\n",
        "  file.write(\"Hello world\")\n",
        "\n",
        "  print(file.tell())\n",
        "\n",
        "  file.seek(0)\n",
        "  print(file.tell())\n",
        "\n",
        "  print(file.read())\n",
        "\n",
        "  file.truncate(5)\n",
        "\n",
        "  file.seek(0)\n",
        "\n",
        "  print(file.read())\n"
      ],
      "metadata": {
        "id": "xy1_T6AK7rXM",
        "colab": {
          "base_uri": "https://localhost:8080/"
        },
        "outputId": "4f3768c7-1a76-49e0-dd96-fc9044d5feb4"
      },
      "execution_count": 12,
      "outputs": [
        {
          "output_type": "stream",
          "name": "stdout",
          "text": [
            "11\n",
            "0\n",
            "Hello world\n",
            "Hello\n"
          ]
        }
      ]
    },
    {
      "cell_type": "markdown",
      "source": [
        "# **Exception handling**\n",
        "Try,Else,Finally Block"
      ],
      "metadata": {
        "id": "2WGhSoHnriBJ"
      }
    },
    {
      "cell_type": "code",
      "source": [
        "try:\n",
        "  a = 10/0\n",
        "except ZeroDivisionError:\n",
        "  print(\"you cant divide a number by 0\")\n",
        "\n",
        "print(\"hello world\")"
      ],
      "metadata": {
        "id": "5vBqabqvriK9",
        "colab": {
          "base_uri": "https://localhost:8080/"
        },
        "outputId": "2a99e7a6-39e8-4d71-9c4d-a32af11416bb"
      },
      "execution_count": 14,
      "outputs": [
        {
          "output_type": "stream",
          "name": "stdout",
          "text": [
            "you cant divide a number by 0\n",
            "hello world\n"
          ]
        }
      ]
    },
    {
      "cell_type": "code",
      "source": [
        "a,b=map(int,input().split())\n",
        "try:\n",
        "  print(a/b)\n",
        "except ZeroDivisionError:\n",
        "  print(\"Division by zero\")"
      ],
      "metadata": {
        "id": "4C54US3qriOy",
        "colab": {
          "base_uri": "https://localhost:8080/"
        },
        "outputId": "ed520641-a1c5-4950-b3d7-7949099220aa"
      },
      "execution_count": 15,
      "outputs": [
        {
          "output_type": "stream",
          "name": "stdout",
          "text": [
            "10 0\n",
            "Division by zero\n"
          ]
        }
      ]
    },
    {
      "cell_type": "code",
      "source": [
        "try:\n",
        "  x = y\n",
        "except ZeroDivisionError:\n",
        "  print(\"you cant divide a number by 0\")\n",
        "except Exception as e:\n",
        "  print(e)\n",
        "\n",
        "\n",
        "print(\"hello world\")"
      ],
      "metadata": {
        "id": "cEF6-Z7iriTJ",
        "colab": {
          "base_uri": "https://localhost:8080/"
        },
        "outputId": "5b584b04-9efc-46cd-92b9-9dddec4dd524"
      },
      "execution_count": 16,
      "outputs": [
        {
          "output_type": "stream",
          "name": "stdout",
          "text": [
            "name 'y' is not defined\n",
            "hello world\n"
          ]
        }
      ]
    },
    {
      "cell_type": "code",
      "source": [
        "# model train\n",
        "try:\n",
        "  file = open(\"./sample_data/data1.txt\",\"r\")\n",
        "except Exception as e:\n",
        "  print(e)\n",
        "else:\n",
        "  # model train\n",
        "  print(file.read())\n",
        "finally:\n",
        "  print(\"Gpu is stopped\")"
      ],
      "metadata": {
        "id": "cgjci0Ksri0W",
        "colab": {
          "base_uri": "https://localhost:8080/"
        },
        "outputId": "561b2e19-18ee-4223-9185-50b932de7500"
      },
      "execution_count": 17,
      "outputs": [
        {
          "output_type": "stream",
          "name": "stdout",
          "text": [
            "[Errno 2] No such file or directory: './sample_data/data1.txt'\n",
            "Gpu is stopped\n"
          ]
        }
      ]
    },
    {
      "cell_type": "code",
      "source": [],
      "metadata": {
        "id": "JqJ-_3mRri4K"
      },
      "execution_count": null,
      "outputs": []
    }
  ]
}