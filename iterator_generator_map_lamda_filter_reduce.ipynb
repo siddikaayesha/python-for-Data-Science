{
  "nbformat": 4,
  "nbformat_minor": 0,
  "metadata": {
    "colab": {
      "provenance": []
    },
    "kernelspec": {
      "name": "python3",
      "display_name": "Python 3"
    },
    "language_info": {
      "name": "python"
    }
  },
  "cells": [
    {
      "cell_type": "markdown",
      "source": [
        "#Function\n",
        "A function in Python is a block of reusable code that performs a specific task and can be called with inputs to return an output.\n",
        "Functions help in organizing code, reducing repetition, and improving readability."
      ],
      "metadata": {
        "id": "1plDwRqtAV8C"
      }
    },
    {
      "cell_type": "code",
      "source": [
        "def greet(user):\n",
        "  print(f'Hello {user}')\n",
        "greet(\"Ayesha\")\n"
      ],
      "metadata": {
        "colab": {
          "base_uri": "https://localhost:8080/"
        },
        "id": "DB4lqUJmAdYi",
        "outputId": "b3a58119-0a33-4b6c-bb6a-bf5aae4e6fd0"
      },
      "execution_count": 69,
      "outputs": [
        {
          "output_type": "stream",
          "name": "stdout",
          "text": [
            "Hello Ayesha\n"
          ]
        }
      ]
    },
    {
      "cell_type": "code",
      "source": [
        "def greet(user=\"Guest\"):\n",
        "  print(f'Hello {user}')\n",
        "greet(\"Ayesha\")\n",
        "greet()"
      ],
      "metadata": {
        "colab": {
          "base_uri": "https://localhost:8080/"
        },
        "id": "7ndE9PfFAaUi",
        "outputId": "91bd18fb-a17f-4fbf-e856-f3b765b083c9"
      },
      "execution_count": 70,
      "outputs": [
        {
          "output_type": "stream",
          "name": "stdout",
          "text": [
            "Hello Ayesha\n",
            "Hello Guest\n"
          ]
        }
      ]
    },
    {
      "cell_type": "markdown",
      "source": [
        "#Return\n"
      ],
      "metadata": {
        "id": "qXTIPWi8Aok6"
      }
    },
    {
      "cell_type": "code",
      "source": [
        "def square(a,b):\n",
        "  a=a**2\n",
        "  b=b**2\n",
        "  return a+b\n",
        "a=square(2,3)\n",
        "print(a)\n",
        "print(type(a))"
      ],
      "metadata": {
        "colab": {
          "base_uri": "https://localhost:8080/"
        },
        "id": "0XRBDsSIhSAo",
        "outputId": "5b93a7d1-caf1-42d6-c402-83fe9a8e04e3"
      },
      "execution_count": 7,
      "outputs": [
        {
          "output_type": "stream",
          "name": "stdout",
          "text": [
            "13\n",
            "<class 'int'>\n"
          ]
        }
      ]
    },
    {
      "cell_type": "code",
      "source": [
        "ans=square(b=2,a=9)\n",
        "print(ans)"
      ],
      "metadata": {
        "colab": {
          "base_uri": "https://localhost:8080/"
        },
        "id": "sVRvX0CAh18X",
        "outputId": "9f3aa625-9ad7-4602-dc81-3262858897de"
      },
      "execution_count": 8,
      "outputs": [
        {
          "output_type": "stream",
          "name": "stdout",
          "text": [
            "85\n"
          ]
        }
      ]
    },
    {
      "cell_type": "markdown",
      "source": [
        "#Args,Kwargs\n",
        "*args allows a function to accept any number of(variable number) positional arguments as a tuple.\n",
        "**kwargs allows a function to accept any number of keyword arguments as a dictionary."
      ],
      "metadata": {
        "id": "HB2eeUpGAzgq"
      }
    },
    {
      "cell_type": "code",
      "source": [
        "def var_sqr(*args):\n",
        "  return args\n",
        "a=var_sqr(1,2,3,4,5)\n",
        "for i in a:\n",
        "  print(i)"
      ],
      "metadata": {
        "colab": {
          "base_uri": "https://localhost:8080/"
        },
        "id": "xPlILZIDhIsk",
        "outputId": "d794cb5b-8e3b-4f7c-dc3a-4b26267ad92d"
      },
      "execution_count": 9,
      "outputs": [
        {
          "output_type": "stream",
          "name": "stdout",
          "text": [
            "1\n",
            "2\n",
            "3\n",
            "4\n",
            "5\n"
          ]
        }
      ]
    },
    {
      "cell_type": "code",
      "source": [
        "def stu(**kwargs):\n",
        "  return kwargs\n",
        "a=stu(name='Ayesha Siddika',age=30)\n",
        "print(a)"
      ],
      "metadata": {
        "colab": {
          "base_uri": "https://localhost:8080/"
        },
        "id": "QSgM--AljVBb",
        "outputId": "010b8c67-3108-4e25-d3c2-7b56ab2a6ee8"
      },
      "execution_count": 12,
      "outputs": [
        {
          "output_type": "stream",
          "name": "stdout",
          "text": [
            "{'name': 'Ayesha Siddika', 'age': 30}\n"
          ]
        }
      ]
    },
    {
      "cell_type": "code",
      "source": [
        "def stu(**kwargs):\n",
        "  for key,value in kwargs.items():\n",
        "    print(f'{key}= {value}')\n",
        "stu(name=\"Ayesha Siddika\",cls=\"10\",Roll=1,marks=50)"
      ],
      "metadata": {
        "colab": {
          "base_uri": "https://localhost:8080/"
        },
        "id": "-YCYFPZfkJXl",
        "outputId": "03b4e1a1-7f23-4de7-e521-bba901e1eea2"
      },
      "execution_count": 13,
      "outputs": [
        {
          "output_type": "stream",
          "name": "stdout",
          "text": [
            "name= Ayesha Siddika\n",
            "cls= 10\n",
            "Roll= 1\n",
            "marks= 50\n"
          ]
        }
      ]
    },
    {
      "cell_type": "markdown",
      "source": [
        "#unpacked\n",
        "train_test_split method return 4 value which is unpacked and stored in  X_train, X_test, y_train, y_test"
      ],
      "metadata": {
        "id": "41rk_549mZ7f"
      }
    },
    {
      "cell_type": "code",
      "source": [
        "def give_prediction():\n",
        "  return 10,20\n",
        "#unpacking / split data set in scikitlearn\n",
        "#X_train, X_test, y_train, y_test = train_test_split(\n",
        "  #  X, y, test_size=0.33, random_state=42)\n",
        "x,y=give_prediction()\n",
        "print(x,y)"
      ],
      "metadata": {
        "colab": {
          "base_uri": "https://localhost:8080/"
        },
        "id": "eUY7z_BZkne7",
        "outputId": "5947e2e2-e943-42e7-ae6a-106b610f0455"
      },
      "execution_count": 16,
      "outputs": [
        {
          "output_type": "stream",
          "name": "stdout",
          "text": [
            "10 20\n"
          ]
        }
      ]
    },
    {
      "cell_type": "code",
      "source": [
        "def give_prediction():\n",
        "  a={1,2,3,4}\n",
        "  b=[3,354,234,564]\n",
        "  return a,b\n",
        "a,b=give_prediction()\n",
        "print(a,b)"
      ],
      "metadata": {
        "colab": {
          "base_uri": "https://localhost:8080/"
        },
        "id": "4SFBYJasj9_a",
        "outputId": "000d24b8-a17f-4919-93f3-d70359c8257f"
      },
      "execution_count": 18,
      "outputs": [
        {
          "output_type": "stream",
          "name": "stdout",
          "text": [
            "{1, 2, 3, 4} [3, 354, 234, 564]\n"
          ]
        }
      ]
    },
    {
      "cell_type": "code",
      "source": [
        "def give_prediction():\n",
        "  return {\"name\":\"Ayesha\",\"Age\":18},{\"name\":\"Siddika\",\"Age\":8}\n",
        "a,b=give_prediction()\n",
        "for item in a.items():\n",
        "  print(item)"
      ],
      "metadata": {
        "colab": {
          "base_uri": "https://localhost:8080/"
        },
        "id": "hPFk3D75nixR",
        "outputId": "7f6ce92d-b864-46bd-8789-0ea9a6522382"
      },
      "execution_count": 21,
      "outputs": [
        {
          "output_type": "stream",
          "name": "stdout",
          "text": [
            "('name', 'Ayesha')\n",
            "('Age', 18)\n"
          ]
        }
      ]
    },
    {
      "cell_type": "markdown",
      "source": [
        "#Iterator\n",
        "An iterator in Python is an object that returns data one element at a time when iterated over using next().\n",
        "In data science, iterators are useful for streaming large datasets without loading them entirely into memory."
      ],
      "metadata": {
        "id": "BTMkE-peu_oy"
      }
    },
    {
      "cell_type": "code",
      "source": [
        "s={10,1,2,3,4,5,8,5,1}\n",
        "s_iter=iter(s)\n",
        "print(next(s_iter))\n",
        "print(next(s_iter))\n",
        "print(next(s_iter))\n",
        "print(next(s_iter))\n",
        "print(next(s_iter))"
      ],
      "metadata": {
        "colab": {
          "base_uri": "https://localhost:8080/"
        },
        "id": "_fC13O4Psd-z",
        "outputId": "3049be76-131d-4a64-f557-07ea68618fd1"
      },
      "execution_count": 27,
      "outputs": [
        {
          "output_type": "stream",
          "name": "stdout",
          "text": [
            "0\n",
            "1\n",
            "2\n",
            "3\n",
            "4\n"
          ]
        }
      ]
    },
    {
      "cell_type": "markdown",
      "source": [
        "#Generator\n",
        "generator in Python is a special type of function that yields items one at a time instead of returning them all at once.\n",
        "It saves memory and improves performance when processing data streams or big files, as it helps to load data in chunk sizes each time instead of loading everything into memory."
      ],
      "metadata": {
        "id": "tZG7_FX4v_d0"
      }
    },
    {
      "cell_type": "code",
      "source": [
        "lst=[x for x in range(100) if x%2==0]\n",
        "def data_loader(chunk_size,lst):\n",
        "  for i in range(0,len(lst),chunk_size):\n",
        "    yield lst[i:i+chunk_size]#yield dia data er size bole dibo.koto data nibo dataset theke\n",
        "x=data_loader(10,lst)\n",
        "print(type(data_loader))\n",
        "print(next(x))\n",
        "print(next(x))\n",
        "\n"
      ],
      "metadata": {
        "colab": {
          "base_uri": "https://localhost:8080/"
        },
        "id": "EsnRuZEQv8Jf",
        "outputId": "f5188516-7225-45ae-ed41-5d0b5396b90e"
      },
      "execution_count": 36,
      "outputs": [
        {
          "output_type": "stream",
          "name": "stdout",
          "text": [
            "<class 'function'>\n",
            "[0, 2, 4, 6, 8, 10, 12, 14, 16, 18]\n",
            "[20, 22, 24, 26, 28, 30, 32, 34, 36, 38]\n"
          ]
        }
      ]
    },
    {
      "cell_type": "markdown",
      "source": [
        "Lambda Function\n",
        "lamda function receive only 1 logic but multiple attribute\n",
        "when we dont need to reuse the code we use lambda Function"
      ],
      "metadata": {
        "id": "caxDBS3WyZhn"
      }
    },
    {
      "cell_type": "code",
      "source": [
        "def square_add(x,y):\n",
        "  return x**2+y**2\n",
        "square_add(2,3)\n",
        "sqr_add=lambda x,y:x**2+y**2\n",
        "print(sqr_add(3,4))"
      ],
      "metadata": {
        "colab": {
          "base_uri": "https://localhost:8080/"
        },
        "id": "Urv22fkcyY7g",
        "outputId": "ce67220a-6c2f-412e-b29b-a351c9d2f95b"
      },
      "execution_count": 39,
      "outputs": [
        {
          "output_type": "stream",
          "name": "stdout",
          "text": [
            "25\n"
          ]
        }
      ]
    },
    {
      "cell_type": "markdown",
      "source": [
        "#Map\n",
        "map() function is used to apply a specific function to every element in an iterable like a list or series.\n",
        "It helps in data transformation and preprocessing, such as converting text to lowercase or apply square formula in all the valu of a list"
      ],
      "metadata": {
        "id": "Bi7NjLncpx6M"
      }
    },
    {
      "cell_type": "code",
      "source": [
        "lst=[1,2,3,4,5,6]\n",
        "def square(x):\n",
        "  return x**2\n",
        "lst=map(square,lst)\n",
        "print(type(lst))\n",
        "print(lst)\n",
        "lst=list(lst)\n",
        "print(type(lst))\n",
        "print(lst)"
      ],
      "metadata": {
        "colab": {
          "base_uri": "https://localhost:8080/"
        },
        "id": "DO4a0lb-zmFC",
        "outputId": "bdaa7ebd-d8f9-4ec1-d1f6-6097a6d60189"
      },
      "execution_count": 44,
      "outputs": [
        {
          "output_type": "stream",
          "name": "stdout",
          "text": [
            "<class 'map'>\n",
            "<map object at 0x7d598fd479a0>\n",
            "<class 'list'>\n",
            "[1, 4, 9, 16, 25, 36]\n"
          ]
        }
      ]
    },
    {
      "cell_type": "code",
      "source": [
        "lst={1,2,3,4,5}\n",
        "lst=map(lambda x:x*5,lst)\n",
        "print(type(lst))\n",
        "print(lst)\n",
        "print(list(lst))"
      ],
      "metadata": {
        "colab": {
          "base_uri": "https://localhost:8080/"
        },
        "id": "jI-Nwo9C0enV",
        "outputId": "7bbd3206-7cc9-42c6-8bc4-78617b98083c"
      },
      "execution_count": 46,
      "outputs": [
        {
          "output_type": "stream",
          "name": "stdout",
          "text": [
            "<class 'map'>\n",
            "<map object at 0x7d598fd4a1d0>\n",
            "[5, 10, 15, 20, 25]\n"
          ]
        }
      ]
    },
    {
      "cell_type": "code",
      "source": [
        "str=\"ayesha Siddika Shohan Ehtesham Alam\"\n",
        "str=str.split()\n",
        "str=map(lambda x:x[::-1],str)\n",
        "print(list(str))"
      ],
      "metadata": {
        "colab": {
          "base_uri": "https://localhost:8080/"
        },
        "id": "YuiNNSF00383",
        "outputId": "79e19d1a-8588-4912-844a-973edbd91e01"
      },
      "execution_count": 49,
      "outputs": [
        {
          "output_type": "stream",
          "name": "stdout",
          "text": [
            "['ahseya', 'akiddiS', 'nahohS', 'mahsethE', 'malA']\n"
          ]
        }
      ]
    },
    {
      "cell_type": "code",
      "source": [
        "string = \"Hello world, welcome to the age of AI\"\n",
        "string1 = list(map(str.upper, string))\n",
        "print(string1)\n",
        "string1=\"\".join(string1)\n",
        "print(string1)"
      ],
      "metadata": {
        "id": "xI_kBbCWAHcp"
      },
      "execution_count": null,
      "outputs": []
    },
    {
      "cell_type": "markdown",
      "source": [
        "#Filter\n",
        "filter() function is used to select elements from an iterable that meet specific conditions defined by a function.\n",
        "It helps in data cleaning and preprocessing by keeping only the relevant or valid data points for analysis."
      ],
      "metadata": {
        "id": "kK-ZM0Sh8ikJ"
      }
    },
    {
      "cell_type": "code",
      "source": [
        "numbers=[x for x in range(100)]\n",
        "print(numbers)\n",
        "even=list(filter(lambda x:x%2==0,numbers))\n",
        "print(even)\n",
        "fifty_upper=list(filter(lambda x:x>50,numbers))\n",
        "print(fifty_upper)"
      ],
      "metadata": {
        "colab": {
          "base_uri": "https://localhost:8080/"
        },
        "id": "ihhQYXRJ6Onj",
        "outputId": "be2ea45a-fbad-4ecb-fb15-994b039a61e6"
      },
      "execution_count": 62,
      "outputs": [
        {
          "output_type": "stream",
          "name": "stdout",
          "text": [
            "[0, 1, 2, 3, 4, 5, 6, 7, 8, 9, 10, 11, 12, 13, 14, 15, 16, 17, 18, 19, 20, 21, 22, 23, 24, 25, 26, 27, 28, 29, 30, 31, 32, 33, 34, 35, 36, 37, 38, 39, 40, 41, 42, 43, 44, 45, 46, 47, 48, 49, 50, 51, 52, 53, 54, 55, 56, 57, 58, 59, 60, 61, 62, 63, 64, 65, 66, 67, 68, 69, 70, 71, 72, 73, 74, 75, 76, 77, 78, 79, 80, 81, 82, 83, 84, 85, 86, 87, 88, 89, 90, 91, 92, 93, 94, 95, 96, 97, 98, 99]\n",
            "[0, 2, 4, 6, 8, 10, 12, 14, 16, 18, 20, 22, 24, 26, 28, 30, 32, 34, 36, 38, 40, 42, 44, 46, 48, 50, 52, 54, 56, 58, 60, 62, 64, 66, 68, 70, 72, 74, 76, 78, 80, 82, 84, 86, 88, 90, 92, 94, 96, 98]\n",
            "[51, 52, 53, 54, 55, 56, 57, 58, 59, 60, 61, 62, 63, 64, 65, 66, 67, 68, 69, 70, 71, 72, 73, 74, 75, 76, 77, 78, 79, 80, 81, 82, 83, 84, 85, 86, 87, 88, 89, 90, 91, 92, 93, 94, 95, 96, 97, 98, 99]\n"
          ]
        }
      ]
    },
    {
      "cell_type": "code",
      "source": [
        "data=[0,1,'',None,'Hello',[],[1,2],None,True,False,None]\n",
        "cleaned_data=list(filter(None,data))\n",
        "print(cleaned_data)"
      ],
      "metadata": {
        "colab": {
          "base_uri": "https://localhost:8080/"
        },
        "id": "aQnn2OAO6-AL",
        "outputId": "bacb46c1-cda3-4b8e-cfdd-bef83c9a3374"
      },
      "execution_count": 63,
      "outputs": [
        {
          "output_type": "stream",
          "name": "stdout",
          "text": [
            "[1, 'Hello', [1, 2], True]\n"
          ]
        }
      ]
    },
    {
      "cell_type": "code",
      "source": [
        "string = \"Hello world, welcome to the age of AI\"\n",
        "vowel=list(filter(lambda x: x in \"AEIOUaeiou\",string))\n",
        "print(vowel)"
      ],
      "metadata": {
        "colab": {
          "base_uri": "https://localhost:8080/"
        },
        "id": "JEHIh2aB7Dwj",
        "outputId": "71bbbcc8-510f-406c-a90e-e58bccead911"
      },
      "execution_count": 64,
      "outputs": [
        {
          "output_type": "stream",
          "name": "stdout",
          "text": [
            "['e', 'o', 'o', 'e', 'o', 'e', 'o', 'e', 'a', 'e', 'o', 'A', 'I']\n"
          ]
        }
      ]
    },
    {
      "cell_type": "code",
      "source": [
        "fruits=['aaa','sdfs','a','','fjsdhufh']\n",
        "len2=list(filter(lambda x:len(x)>2,fruits))\n",
        "print(len2)"
      ],
      "metadata": {
        "colab": {
          "base_uri": "https://localhost:8080/"
        },
        "id": "44M_cOD875ZE",
        "outputId": "190dfc99-b6ba-4631-d941-43dd9ae9f3eb"
      },
      "execution_count": 65,
      "outputs": [
        {
          "output_type": "stream",
          "name": "stdout",
          "text": [
            "['aaa', 'sdfs', 'fjsdhufh']\n"
          ]
        }
      ]
    },
    {
      "cell_type": "markdown",
      "source": [
        "#Reduce Function- Functools\n",
        "reduce() function (from functools) is used to apply a function cumulatively to all items in an iterable, reducing them to a single value.\n",
        "It’s often used for aggregations like summing, multiplying, or combining data into one result."
      ],
      "metadata": {
        "id": "kiIolyMPzlxC"
      }
    },
    {
      "cell_type": "code",
      "source": [
        "from functools import reduce\n",
        "lst=[0, 1, 2, 3, 4, 5, 6, 7, 8, 9, 10, 11, 12, 13, 14, 15, 16, 17, 18]\n",
        "sum=reduce(lambda x,y :x+y,lst)\n",
        "print(sum)"
      ],
      "metadata": {
        "colab": {
          "base_uri": "https://localhost:8080/"
        },
        "id": "n-zU791Y80WD",
        "outputId": "490260bc-b66a-49e3-9194-bbbbff88dc6e"
      },
      "execution_count": 66,
      "outputs": [
        {
          "output_type": "stream",
          "name": "stdout",
          "text": [
            "171\n"
          ]
        }
      ]
    },
    {
      "cell_type": "code",
      "source": [
        "from functools import reduce\n",
        "lst=[0, 1, 2, 3, 4, 5, 6, 7, 8, 9, 10, 11, 12, 13, 14, 15, 16, 17, 18]\n",
        "m=reduce(lambda x,y:x if x>y else y,lst)\n",
        "print(m)"
      ],
      "metadata": {
        "colab": {
          "base_uri": "https://localhost:8080/"
        },
        "id": "FhYCfYVq-xk5",
        "outputId": "5dc5de59-e42b-4cb8-94dc-812a3f35971c"
      },
      "execution_count": 67,
      "outputs": [
        {
          "output_type": "stream",
          "name": "stdout",
          "text": [
            "18\n"
          ]
        }
      ]
    }
  ]
}